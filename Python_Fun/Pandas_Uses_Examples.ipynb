{
 "cells": [
  {
   "cell_type": "markdown",
   "metadata": {
    "collapsed": true
   },
   "source": [
    "## Pandas Cheat Sheet"
   ]
  },
  {
   "cell_type": "code",
   "execution_count": 2,
   "metadata": {},
   "outputs": [],
   "source": [
    "# Import Pandas Library\n",
    "# df for any Pandas DataFrame\n",
    "# s for any Pandas Series\n",
    "\n",
    "import pandas as pd\n",
    "import numpy as np\n"
   ]
  },
  {
   "cell_type": "markdown",
   "metadata": {},
   "source": [
    "### Importing Data"
   ]
  },
  {
   "cell_type": "markdown",
   "metadata": {},
   "source": [
    "pd.read_csv(filename) #From a CSV file"
   ]
  },
  {
   "cell_type": "markdown",
   "metadata": {},
   "source": [
    "pd.read_table(filename) #From a delimited text file (like TSV)"
   ]
  },
  {
   "cell_type": "markdown",
   "metadata": {},
   "source": [
    "pd.read_excel(filename) #From an Excel file (like xlsx)"
   ]
  },
  {
   "cell_type": "markdown",
   "metadata": {},
   "source": [
    "pd.read_sql(query, connection_objects) #Read from a SQL table/database"
   ]
  },
  {
   "cell_type": "markdown",
   "metadata": {},
   "source": [
    "pd.read_json(json_string) #Read from a JSON formatted string, URL or file"
   ]
  },
  {
   "cell_type": "markdown",
   "metadata": {},
   "source": [
    "pd.read_html(url) #Parses an html URL, string or file and extracts tables to a list of dataframes"
   ]
  },
  {
   "cell_type": "markdown",
   "metadata": {},
   "source": [
    "pd.read_clipboard() #Takes the contents of your clipboard and passes it to read_table( )"
   ]
  },
  {
   "cell_type": "markdown",
   "metadata": {},
   "source": [
    "pd.DataFrame(dict) #From a dict, keys for column names, values for data as lists"
   ]
  },
  {
   "cell_type": "markdown",
   "metadata": {},
   "source": [
    "### Create Test Objects "
   ]
  },
  {
   "cell_type": "markdown",
   "metadata": {},
   "source": [
    "pd.DataFrame(np.random.rand(20,5)) #5 columns and 20 rows of random floats"
   ]
  },
  {
   "cell_type": "code",
   "execution_count": 3,
   "metadata": {},
   "outputs": [
    {
     "data": {
      "text/html": [
       "<div>\n",
       "<style>\n",
       "    .dataframe thead tr:only-child th {\n",
       "        text-align: right;\n",
       "    }\n",
       "\n",
       "    .dataframe thead th {\n",
       "        text-align: left;\n",
       "    }\n",
       "\n",
       "    .dataframe tbody tr th {\n",
       "        vertical-align: top;\n",
       "    }\n",
       "</style>\n",
       "<table border=\"1\" class=\"dataframe\">\n",
       "  <thead>\n",
       "    <tr style=\"text-align: right;\">\n",
       "      <th></th>\n",
       "      <th>0</th>\n",
       "      <th>1</th>\n",
       "      <th>2</th>\n",
       "      <th>3</th>\n",
       "      <th>4</th>\n",
       "    </tr>\n",
       "  </thead>\n",
       "  <tbody>\n",
       "    <tr>\n",
       "      <th>0</th>\n",
       "      <td>0.688901</td>\n",
       "      <td>0.723097</td>\n",
       "      <td>0.138076</td>\n",
       "      <td>0.639031</td>\n",
       "      <td>0.504366</td>\n",
       "    </tr>\n",
       "    <tr>\n",
       "      <th>1</th>\n",
       "      <td>0.914582</td>\n",
       "      <td>0.717245</td>\n",
       "      <td>0.476866</td>\n",
       "      <td>0.751797</td>\n",
       "      <td>0.354451</td>\n",
       "    </tr>\n",
       "    <tr>\n",
       "      <th>2</th>\n",
       "      <td>0.998092</td>\n",
       "      <td>0.464517</td>\n",
       "      <td>0.085030</td>\n",
       "      <td>0.807214</td>\n",
       "      <td>0.392708</td>\n",
       "    </tr>\n",
       "    <tr>\n",
       "      <th>3</th>\n",
       "      <td>0.691081</td>\n",
       "      <td>0.519494</td>\n",
       "      <td>0.780474</td>\n",
       "      <td>0.377801</td>\n",
       "      <td>0.428537</td>\n",
       "    </tr>\n",
       "    <tr>\n",
       "      <th>4</th>\n",
       "      <td>0.997760</td>\n",
       "      <td>0.806244</td>\n",
       "      <td>0.954406</td>\n",
       "      <td>0.727881</td>\n",
       "      <td>0.826605</td>\n",
       "    </tr>\n",
       "    <tr>\n",
       "      <th>5</th>\n",
       "      <td>0.543553</td>\n",
       "      <td>0.593414</td>\n",
       "      <td>0.301235</td>\n",
       "      <td>0.264057</td>\n",
       "      <td>0.255596</td>\n",
       "    </tr>\n",
       "    <tr>\n",
       "      <th>6</th>\n",
       "      <td>0.051636</td>\n",
       "      <td>0.282455</td>\n",
       "      <td>0.443836</td>\n",
       "      <td>0.038653</td>\n",
       "      <td>0.938151</td>\n",
       "    </tr>\n",
       "    <tr>\n",
       "      <th>7</th>\n",
       "      <td>0.773525</td>\n",
       "      <td>0.889427</td>\n",
       "      <td>0.971686</td>\n",
       "      <td>0.101659</td>\n",
       "      <td>0.950191</td>\n",
       "    </tr>\n",
       "    <tr>\n",
       "      <th>8</th>\n",
       "      <td>0.624968</td>\n",
       "      <td>0.580120</td>\n",
       "      <td>0.831913</td>\n",
       "      <td>0.784175</td>\n",
       "      <td>0.009376</td>\n",
       "    </tr>\n",
       "    <tr>\n",
       "      <th>9</th>\n",
       "      <td>0.278846</td>\n",
       "      <td>0.732181</td>\n",
       "      <td>0.395092</td>\n",
       "      <td>0.169875</td>\n",
       "      <td>0.279986</td>\n",
       "    </tr>\n",
       "    <tr>\n",
       "      <th>10</th>\n",
       "      <td>0.184484</td>\n",
       "      <td>0.314928</td>\n",
       "      <td>0.939939</td>\n",
       "      <td>0.804431</td>\n",
       "      <td>0.717435</td>\n",
       "    </tr>\n",
       "    <tr>\n",
       "      <th>11</th>\n",
       "      <td>0.406121</td>\n",
       "      <td>0.975091</td>\n",
       "      <td>0.264875</td>\n",
       "      <td>0.518642</td>\n",
       "      <td>0.224113</td>\n",
       "    </tr>\n",
       "    <tr>\n",
       "      <th>12</th>\n",
       "      <td>0.210590</td>\n",
       "      <td>0.066991</td>\n",
       "      <td>0.349734</td>\n",
       "      <td>0.433460</td>\n",
       "      <td>0.179215</td>\n",
       "    </tr>\n",
       "    <tr>\n",
       "      <th>13</th>\n",
       "      <td>0.229807</td>\n",
       "      <td>0.221887</td>\n",
       "      <td>0.478356</td>\n",
       "      <td>0.310894</td>\n",
       "      <td>0.586770</td>\n",
       "    </tr>\n",
       "    <tr>\n",
       "      <th>14</th>\n",
       "      <td>0.008094</td>\n",
       "      <td>0.734121</td>\n",
       "      <td>0.071579</td>\n",
       "      <td>0.444426</td>\n",
       "      <td>0.256121</td>\n",
       "    </tr>\n",
       "    <tr>\n",
       "      <th>15</th>\n",
       "      <td>0.364334</td>\n",
       "      <td>0.447711</td>\n",
       "      <td>0.100514</td>\n",
       "      <td>0.184393</td>\n",
       "      <td>0.824616</td>\n",
       "    </tr>\n",
       "    <tr>\n",
       "      <th>16</th>\n",
       "      <td>0.176540</td>\n",
       "      <td>0.318470</td>\n",
       "      <td>0.612729</td>\n",
       "      <td>0.792620</td>\n",
       "      <td>0.116313</td>\n",
       "    </tr>\n",
       "    <tr>\n",
       "      <th>17</th>\n",
       "      <td>0.706406</td>\n",
       "      <td>0.656551</td>\n",
       "      <td>0.098914</td>\n",
       "      <td>0.770021</td>\n",
       "      <td>0.552447</td>\n",
       "    </tr>\n",
       "    <tr>\n",
       "      <th>18</th>\n",
       "      <td>0.407284</td>\n",
       "      <td>0.886353</td>\n",
       "      <td>0.839869</td>\n",
       "      <td>0.990940</td>\n",
       "      <td>0.186097</td>\n",
       "    </tr>\n",
       "    <tr>\n",
       "      <th>19</th>\n",
       "      <td>0.309977</td>\n",
       "      <td>0.607556</td>\n",
       "      <td>0.965318</td>\n",
       "      <td>0.674584</td>\n",
       "      <td>0.702484</td>\n",
       "    </tr>\n",
       "  </tbody>\n",
       "</table>\n",
       "</div>"
      ],
      "text/plain": [
       "           0         1         2         3         4\n",
       "0   0.688901  0.723097  0.138076  0.639031  0.504366\n",
       "1   0.914582  0.717245  0.476866  0.751797  0.354451\n",
       "2   0.998092  0.464517  0.085030  0.807214  0.392708\n",
       "3   0.691081  0.519494  0.780474  0.377801  0.428537\n",
       "4   0.997760  0.806244  0.954406  0.727881  0.826605\n",
       "5   0.543553  0.593414  0.301235  0.264057  0.255596\n",
       "6   0.051636  0.282455  0.443836  0.038653  0.938151\n",
       "7   0.773525  0.889427  0.971686  0.101659  0.950191\n",
       "8   0.624968  0.580120  0.831913  0.784175  0.009376\n",
       "9   0.278846  0.732181  0.395092  0.169875  0.279986\n",
       "10  0.184484  0.314928  0.939939  0.804431  0.717435\n",
       "11  0.406121  0.975091  0.264875  0.518642  0.224113\n",
       "12  0.210590  0.066991  0.349734  0.433460  0.179215\n",
       "13  0.229807  0.221887  0.478356  0.310894  0.586770\n",
       "14  0.008094  0.734121  0.071579  0.444426  0.256121\n",
       "15  0.364334  0.447711  0.100514  0.184393  0.824616\n",
       "16  0.176540  0.318470  0.612729  0.792620  0.116313\n",
       "17  0.706406  0.656551  0.098914  0.770021  0.552447\n",
       "18  0.407284  0.886353  0.839869  0.990940  0.186097\n",
       "19  0.309977  0.607556  0.965318  0.674584  0.702484"
      ]
     },
     "execution_count": 3,
     "metadata": {},
     "output_type": "execute_result"
    }
   ],
   "source": [
    "pd.DataFrame(np.random.rand(20,5))\n"
   ]
  },
  {
   "cell_type": "markdown",
   "metadata": {},
   "source": [
    "pd.Series(my_list) #Create a series from an iterable my_list"
   ]
  },
  {
   "cell_type": "markdown",
   "metadata": {},
   "source": [
    "df.index = pd.date_range('1900/1/30', periods=df.shape[0]) #Add a date index"
   ]
  },
  {
   "cell_type": "markdown",
   "metadata": {},
   "source": [
    "### Viewing/Inspecting Data"
   ]
  },
  {
   "cell_type": "markdown",
   "metadata": {},
   "source": [
    "    df.head(n) #First n rows of the DataFrame\n",
    "    df.tail(n) #Last n rows of the DataFrame\n",
    "    df.shape() #Number of rows and columns \n",
    "    df.info() #Index, Datatype and Memory Information\n",
    "    df.describe() #Summary statistics for numerical columns\n",
    "    s.value_counts(dropna=False) #View unique values and counts\n",
    "    df.apply(pd.Series.value_counts) #Unique values and counts for all columns"
   ]
  },
  {
   "cell_type": "markdown",
   "metadata": {},
   "source": [
    "### Selection"
   ]
  },
  {
   "cell_type": "markdown",
   "metadata": {},
   "source": [
    "    df[col] #Returns column with label col as Series\n",
    "    df[[col1, col2]] #Returns columns as a new DataFrame\n",
    "    s.iloc[0] #Selection by position\n",
    "    s.loc['index_one'] #Selection by index\n",
    "    df.iloc[0,:] #First row\n",
    "    df.iloc[0,0] #First element of first column"
   ]
  },
  {
   "cell_type": "markdown",
   "metadata": {},
   "source": [
    "### Data Cleaning"
   ]
  },
  {
   "cell_type": "markdown",
   "metadata": {},
   "source": [
    "    df.columns = ['a','b','c'] #Rename columns \n",
    "    pd.isnull( ) #Checks for null Values, returns Boolean array\n",
    "    pd.notnull( ) #Opposite of pd.isnull( ) \n",
    "    df.dropna( ) #Drop all rows that contain null or NaN values\n",
    "    df.dropna(axis=1) #Drop all columns that contain null values\n",
    "    df.dropna(axis=1, thresh=n) \n",
    "    df.fillna(x) #Replace all null values with x; can select mean, median etc.\n",
    "    s.fillna(s.mean( )) #Replace all null values with the mean \n",
    "    s.astype(float) #Convert datatype of the series to a float\n",
    "    s.replace(1,'one') #Replace all values equal to 1 with 'one'\n",
    "    s.replace([1,3],['one', 'three']) #Replace all 1 with 'one' and all 3 with 'three'\n",
    "    df.rename(columns=lambda x: x + 1) #Mass renaming of columns\n",
    "    df.rename(columns={'old_name': 'new_name}) #Selective renaming\n",
    "    df.set_index('column_one') #Change the index\n",
    "    df.rename(index=lambda x: x + 1) #Mass renaming of index\n"
   ]
  },
  {
   "cell_type": "markdown",
   "metadata": {},
   "source": [
    "### Filter, Sort, and Groupby"
   ]
  },
  {
   "cell_type": "markdown",
   "metadata": {},
   "source": [
    "    df[df[col] > 0.5] #Rows where the column col is greater than 0.5\n",
    "    df[(df[col] > 0.5) & (df[col] < 0.7)] #Rows where 0.7 > col > 0.5\n",
    "    df.sort_values(col1) #Sort values by col1 in ascending order\n",
    "    df.sort_values(col1, ascending=False) #Sort values by col2 in descending order\n",
    "    df.sort_values([col1,col2], ascending=[True,False]) #Sort values by col1 in ascending order then col2 in descending order\n",
    "    df.groupby(col) #Returns a groupby object for values from one column\n",
    "    df.groupby([col1,col2]) #Returns a groupby object for values from multiple columns\n",
    "    df.groupby(col1)[col2] #Returns the mean of the values for col2, grouped by the values in col1 *Can use other statistics\n",
    "    df.pivot_table(index=col1,values=[col2,col3], aggfunc=mean) #Create a pivot table that groups by col1 and calculates the mean of col2 and col3\n",
    "    df.groupby(col1).agg(np.mean) #Find the mean across all columns for every unique col1 group\n",
    "    df.apply(np.max,axis=1) #Apply the function np.max( ) across each row"
   ]
  },
  {
   "cell_type": "markdown",
   "metadata": {},
   "source": [
    "### Join/Combine"
   ]
  },
  {
   "cell_type": "markdown",
   "metadata": {},
   "source": [
    "    df1.append(df2) #Adds the rows in df1 to the end of df2 (columns should be identical)\n",
    "    pd.concat([df1,df2],axis=1) #Add the columns in df1 to the end of df2 (rows should be identical)\n",
    "    df1.join(df2,on=col1,how='inner') #SQL style join the columns in df1 with columns on df2 where the rows of col1 have identical values \n",
    "    how = 'left','right','outer','inner'\n"
   ]
  },
  {
   "cell_type": "markdown",
   "metadata": {},
   "source": [
    "### Statistics"
   ]
  },
  {
   "cell_type": "markdown",
   "metadata": {},
   "source": [
    "df.describe( ) #Summary statistics for numerical columns\n"
   ]
  },
  {
   "cell_type": "markdown",
   "metadata": {},
   "source": [
    "df.mean( ) #Returns the mean of all columns"
   ]
  },
  {
   "cell_type": "markdown",
   "metadata": {},
   "source": [
    "df.corr( ) #Returns the correlation between columns in DataFrame"
   ]
  },
  {
   "cell_type": "markdown",
   "metadata": {},
   "source": [
    "df.count( ) #Returns the number of non-null values in each DataFrame column"
   ]
  },
  {
   "cell_type": "markdown",
   "metadata": {},
   "source": [
    "df.max( ) #Returns the highest value in each column"
   ]
  },
  {
   "cell_type": "markdown",
   "metadata": {},
   "source": [
    "df.min( ) #Returns the lowest value in each column"
   ]
  },
  {
   "cell_type": "markdown",
   "metadata": {},
   "source": [
    "df.median( ) #Returns the median of each column"
   ]
  },
  {
   "cell_type": "markdown",
   "metadata": {},
   "source": [
    "df.std( ) #Returns the standard deviation of each column"
   ]
  },
  {
   "cell_type": "markdown",
   "metadata": {},
   "source": [
    "df.var( ) #Returns the variance of each column"
   ]
  },
  {
   "cell_type": "code",
   "execution_count": null,
   "metadata": {
    "collapsed": true
   },
   "outputs": [],
   "source": []
  }
 ],
 "metadata": {
  "kernelspec": {
   "display_name": "Python 3",
   "language": "python",
   "name": "python3"
  },
  "language_info": {
   "codemirror_mode": {
    "name": "ipython",
    "version": 3
   },
   "file_extension": ".py",
   "mimetype": "text/x-python",
   "name": "python",
   "nbconvert_exporter": "python",
   "pygments_lexer": "ipython3",
   "version": "3.6.2"
  }
 },
 "nbformat": 4,
 "nbformat_minor": 2
}
