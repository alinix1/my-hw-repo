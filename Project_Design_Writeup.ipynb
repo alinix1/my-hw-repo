{
 "cells": [
  {
   "cell_type": "markdown",
   "metadata": {},
   "source": [
    "## Project Design Writeup and Approval \n",
    "\n",
    "Alice Nix"
   ]
  },
  {
   "cell_type": "markdown",
   "metadata": {},
   "source": [
    "### Project Problem & Hypothesis"
   ]
  },
  {
   "cell_type": "markdown",
   "metadata": {},
   "source": [
    "The Problem:  Clinical diagnosis of a chest x-ray can be challenging and time-consuming (in non-emergency settings), sometimes more difficult than diagnosis via chest CT imaging.  I will try and solve the problem by training a classifier to predict the type of disease given an x-ray image.  Essentially I will be using deep learning with convolutional neural networks (CNNs) which will be used to detect and diagnose disease.  Ultimately, this type of machine learning mechanism can lead to clinicians making better diagnostic decisions for patients.  Further, it can help in identifying slow changes occurring over the course of multiple chest x-rays that might otherwise be overlooked."
   ]
  },
  {
   "cell_type": "markdown",
   "metadata": {
    "collapsed": true
   },
   "source": [
    "Goal: By using this free dataset, the hope is that academic and research institutions across the country will be able to teach a computer to read and process extremely large amounts of scans, to confirm the results radiologists have found and potentially identify other findings that may have been overlooked."
   ]
  },
  {
   "cell_type": "markdown",
   "metadata": {
    "collapsed": true
   },
   "source": [
    "Built model will classify chest x-ray images as either an indication of the presence of a nodule or mass and measure accuracy.  This can then be a binary classification problem."
   ]
  },
  {
   "cell_type": "markdown",
   "metadata": {},
   "source": [
    "### Datasets"
   ]
  },
  {
   "cell_type": "code",
   "execution_count": 73,
   "metadata": {},
   "outputs": [
    {
     "data": {
      "text/html": [
       "<div>\n",
       "<style>\n",
       "    .dataframe thead tr:only-child th {\n",
       "        text-align: right;\n",
       "    }\n",
       "\n",
       "    .dataframe thead th {\n",
       "        text-align: left;\n",
       "    }\n",
       "\n",
       "    .dataframe tbody tr th {\n",
       "        vertical-align: top;\n",
       "    }\n",
       "</style>\n",
       "<table border=\"1\" class=\"dataframe\">\n",
       "  <thead>\n",
       "    <tr style=\"text-align: right;\">\n",
       "      <th></th>\n",
       "      <th>Image Index</th>\n",
       "      <th>Finding Labels</th>\n",
       "      <th>Follow-up #</th>\n",
       "      <th>Patient ID</th>\n",
       "      <th>Patient Age</th>\n",
       "      <th>Patient Gender</th>\n",
       "      <th>View Position</th>\n",
       "      <th>OriginalImageWidth</th>\n",
       "      <th>OriginalImageHeight</th>\n",
       "      <th>OriginalImagePixelSpacing_x</th>\n",
       "      <th>OriginalImagePixelSpacing_y</th>\n",
       "    </tr>\n",
       "  </thead>\n",
       "  <tbody>\n",
       "    <tr>\n",
       "      <th>0</th>\n",
       "      <td>00000013_005.png</td>\n",
       "      <td>Emphysema|Infiltration|Pleural_Thickening|Pneu...</td>\n",
       "      <td>5</td>\n",
       "      <td>13</td>\n",
       "      <td>060Y</td>\n",
       "      <td>M</td>\n",
       "      <td>AP</td>\n",
       "      <td>3056</td>\n",
       "      <td>2544</td>\n",
       "      <td>0.139</td>\n",
       "      <td>0.139</td>\n",
       "    </tr>\n",
       "    <tr>\n",
       "      <th>1</th>\n",
       "      <td>00000013_026.png</td>\n",
       "      <td>Cardiomegaly|Emphysema</td>\n",
       "      <td>26</td>\n",
       "      <td>13</td>\n",
       "      <td>057Y</td>\n",
       "      <td>M</td>\n",
       "      <td>AP</td>\n",
       "      <td>2500</td>\n",
       "      <td>2048</td>\n",
       "      <td>0.168</td>\n",
       "      <td>0.168</td>\n",
       "    </tr>\n",
       "    <tr>\n",
       "      <th>2</th>\n",
       "      <td>00000017_001.png</td>\n",
       "      <td>No Finding</td>\n",
       "      <td>1</td>\n",
       "      <td>17</td>\n",
       "      <td>077Y</td>\n",
       "      <td>M</td>\n",
       "      <td>AP</td>\n",
       "      <td>2500</td>\n",
       "      <td>2048</td>\n",
       "      <td>0.168</td>\n",
       "      <td>0.168</td>\n",
       "    </tr>\n",
       "    <tr>\n",
       "      <th>3</th>\n",
       "      <td>00000030_001.png</td>\n",
       "      <td>Atelectasis</td>\n",
       "      <td>1</td>\n",
       "      <td>30</td>\n",
       "      <td>079Y</td>\n",
       "      <td>M</td>\n",
       "      <td>PA</td>\n",
       "      <td>2992</td>\n",
       "      <td>2991</td>\n",
       "      <td>0.143</td>\n",
       "      <td>0.143</td>\n",
       "    </tr>\n",
       "    <tr>\n",
       "      <th>4</th>\n",
       "      <td>00000032_001.png</td>\n",
       "      <td>Cardiomegaly|Edema|Effusion</td>\n",
       "      <td>1</td>\n",
       "      <td>32</td>\n",
       "      <td>055Y</td>\n",
       "      <td>F</td>\n",
       "      <td>AP</td>\n",
       "      <td>2500</td>\n",
       "      <td>2048</td>\n",
       "      <td>0.168</td>\n",
       "      <td>0.168</td>\n",
       "    </tr>\n",
       "    <tr>\n",
       "      <th>5</th>\n",
       "      <td>00000040_003.png</td>\n",
       "      <td>Consolidation|Mass</td>\n",
       "      <td>3</td>\n",
       "      <td>40</td>\n",
       "      <td>068Y</td>\n",
       "      <td>M</td>\n",
       "      <td>PA</td>\n",
       "      <td>2500</td>\n",
       "      <td>2048</td>\n",
       "      <td>0.168</td>\n",
       "      <td>0.168</td>\n",
       "    </tr>\n",
       "    <tr>\n",
       "      <th>6</th>\n",
       "      <td>00000042_002.png</td>\n",
       "      <td>No Finding</td>\n",
       "      <td>2</td>\n",
       "      <td>42</td>\n",
       "      <td>071Y</td>\n",
       "      <td>M</td>\n",
       "      <td>AP</td>\n",
       "      <td>3056</td>\n",
       "      <td>2544</td>\n",
       "      <td>0.139</td>\n",
       "      <td>0.139</td>\n",
       "    </tr>\n",
       "    <tr>\n",
       "      <th>7</th>\n",
       "      <td>00000057_001.png</td>\n",
       "      <td>No Finding</td>\n",
       "      <td>1</td>\n",
       "      <td>57</td>\n",
       "      <td>071Y</td>\n",
       "      <td>M</td>\n",
       "      <td>AP</td>\n",
       "      <td>3056</td>\n",
       "      <td>2544</td>\n",
       "      <td>0.139</td>\n",
       "      <td>0.139</td>\n",
       "    </tr>\n",
       "    <tr>\n",
       "      <th>8</th>\n",
       "      <td>00000061_002.png</td>\n",
       "      <td>Effusion</td>\n",
       "      <td>2</td>\n",
       "      <td>61</td>\n",
       "      <td>077Y</td>\n",
       "      <td>M</td>\n",
       "      <td>PA</td>\n",
       "      <td>2992</td>\n",
       "      <td>2991</td>\n",
       "      <td>0.143</td>\n",
       "      <td>0.143</td>\n",
       "    </tr>\n",
       "    <tr>\n",
       "      <th>9</th>\n",
       "      <td>00000061_019.png</td>\n",
       "      <td>No Finding</td>\n",
       "      <td>19</td>\n",
       "      <td>61</td>\n",
       "      <td>077Y</td>\n",
       "      <td>M</td>\n",
       "      <td>AP</td>\n",
       "      <td>3056</td>\n",
       "      <td>2544</td>\n",
       "      <td>0.139</td>\n",
       "      <td>0.139</td>\n",
       "    </tr>\n",
       "  </tbody>\n",
       "</table>\n",
       "</div>"
      ],
      "text/plain": [
       "        Image Index                                     Finding Labels  \\\n",
       "0  00000013_005.png  Emphysema|Infiltration|Pleural_Thickening|Pneu...   \n",
       "1  00000013_026.png                             Cardiomegaly|Emphysema   \n",
       "2  00000017_001.png                                         No Finding   \n",
       "3  00000030_001.png                                        Atelectasis   \n",
       "4  00000032_001.png                        Cardiomegaly|Edema|Effusion   \n",
       "5  00000040_003.png                                 Consolidation|Mass   \n",
       "6  00000042_002.png                                         No Finding   \n",
       "7  00000057_001.png                                         No Finding   \n",
       "8  00000061_002.png                                           Effusion   \n",
       "9  00000061_019.png                                         No Finding   \n",
       "\n",
       "   Follow-up #  Patient ID Patient Age Patient Gender View Position  \\\n",
       "0            5          13        060Y              M            AP   \n",
       "1           26          13        057Y              M            AP   \n",
       "2            1          17        077Y              M            AP   \n",
       "3            1          30        079Y              M            PA   \n",
       "4            1          32        055Y              F            AP   \n",
       "5            3          40        068Y              M            PA   \n",
       "6            2          42        071Y              M            AP   \n",
       "7            1          57        071Y              M            AP   \n",
       "8            2          61        077Y              M            PA   \n",
       "9           19          61        077Y              M            AP   \n",
       "\n",
       "   OriginalImageWidth  OriginalImageHeight  OriginalImagePixelSpacing_x  \\\n",
       "0                3056                 2544                        0.139   \n",
       "1                2500                 2048                        0.168   \n",
       "2                2500                 2048                        0.168   \n",
       "3                2992                 2991                        0.143   \n",
       "4                2500                 2048                        0.168   \n",
       "5                2500                 2048                        0.168   \n",
       "6                3056                 2544                        0.139   \n",
       "7                3056                 2544                        0.139   \n",
       "8                2992                 2991                        0.143   \n",
       "9                3056                 2544                        0.139   \n",
       "\n",
       "   OriginalImagePixelSpacing_y  \n",
       "0                        0.139  \n",
       "1                        0.168  \n",
       "2                        0.168  \n",
       "3                        0.143  \n",
       "4                        0.168  \n",
       "5                        0.168  \n",
       "6                        0.139  \n",
       "7                        0.139  \n",
       "8                        0.143  \n",
       "9                        0.139  "
      ]
     },
     "execution_count": 73,
     "metadata": {},
     "output_type": "execute_result"
    }
   ],
   "source": [
    "# read in the sample labels as a csv file\n",
    "labels = pd.read_csv('/Users/alicevnix/Desktop/sample_labels.csv')\n",
    "labels.head(10)\n"
   ]
  },
  {
   "cell_type": "code",
   "execution_count": 74,
   "metadata": {},
   "outputs": [
    {
     "data": {
      "text/plain": [
       "5606"
      ]
     },
     "execution_count": 74,
     "metadata": {},
     "output_type": "execute_result"
    }
   ],
   "source": [
    "# Total count or number of records\n",
    "\n",
    "len(labels)\n"
   ]
  },
  {
   "cell_type": "code",
   "execution_count": 41,
   "metadata": {},
   "outputs": [
    {
     "data": {
      "text/plain": [
       "No Finding                                                          3044\n",
       "Infiltration                                                         503\n",
       "Effusion                                                             203\n",
       "Atelectasis                                                          192\n",
       "Nodule                                                               144\n",
       "Pneumothorax                                                         114\n",
       "Mass                                                                  99\n",
       "Consolidation                                                         72\n",
       "Effusion|Infiltration                                                 69\n",
       "Pleural_Thickening                                                    65\n",
       "Atelectasis|Infiltration                                              57\n",
       "Atelectasis|Effusion                                                  55\n",
       "Cardiomegaly                                                          50\n",
       "Infiltration|Nodule                                                   44\n",
       "Emphysema                                                             42\n",
       "Edema                                                                 41\n",
       "Fibrosis                                                              38\n",
       "Atelectasis|Effusion|Infiltration                                     31\n",
       "Cardiomegaly|Effusion                                                 30\n",
       "Infiltration|Mass                                                     29\n",
       "Edema|Infiltration                                                    21\n",
       "Effusion|Pneumothorax                                                 20\n",
       "Infiltration|Pneumothorax                                             19\n",
       "Consolidation|Infiltration                                            18\n",
       "Mass|Nodule                                                           17\n",
       "Mass|Pneumothorax                                                     16\n",
       "Effusion|Mass                                                         16\n",
       "Atelectasis|Consolidation                                             15\n",
       "Emphysema|Pneumothorax                                                15\n",
       "Effusion|Pleural_Thickening                                           14\n",
       "                                                                    ... \n",
       "Atelectasis|Cardiomegaly|Effusion|Mass                                 1\n",
       "Atelectasis|Effusion|Infiltration|Nodule                               1\n",
       "Atelectasis|Edema|Effusion|Infiltration                                1\n",
       "Consolidation|Infiltration|Pneumonia                                   1\n",
       "Atelectasis|Consolidation|Mass|Pneumonia                               1\n",
       "Effusion|Infiltration|Mass|Pneumothorax                                1\n",
       "Edema|Infiltration|Mass                                                1\n",
       "Atelectasis|Edema|Effusion                                             1\n",
       "Atelectasis|Effusion|Nodule                                            1\n",
       "Consolidation|Effusion|Infiltration|Mass|Nodule                        1\n",
       "Atelectasis|Effusion|Pleural_Thickening|Pneumothorax                   1\n",
       "Consolidation|Infiltration|Pneumothorax                                1\n",
       "Fibrosis|Pleural_Thickening|Pneumothorax                               1\n",
       "Atelectasis|Cardiomegaly|Effusion|Fibrosis|Infiltration                1\n",
       "Edema|Emphysema|Infiltration|Pneumonia                                 1\n",
       "Emphysema|Infiltration|Nodule|Pneumothorax                             1\n",
       "Atelectasis|Consolidation|Nodule|Pleural_Thickening|Pneumothorax       1\n",
       "Cardiomegaly|Effusion|Emphysema                                        1\n",
       "Atelectasis|Consolidation|Effusion|Mass                                1\n",
       "Effusion|Fibrosis|Mass|Nodule                                          1\n",
       "Fibrosis|Nodule                                                        1\n",
       "Effusion|Pneumonia                                                     1\n",
       "Consolidation|Pneumothorax                                             1\n",
       "Infiltration|Mass|Nodule|Pleural_Thickening|Pneumothorax               1\n",
       "Atelectasis|Consolidation|Effusion|Emphysema                           1\n",
       "Edema|Nodule                                                           1\n",
       "Consolidation|Fibrosis|Pneumothorax                                    1\n",
       "Atelectasis|Consolidation|Edema|Effusion|Infiltration                  1\n",
       "Cardiomegaly|Consolidation|Effusion|Mass|Pneumothorax                  1\n",
       "Atelectasis|Cardiomegaly|Consolidation                                 1\n",
       "Name: Finding Labels, Length: 244, dtype: int64"
      ]
     },
     "execution_count": 41,
     "metadata": {},
     "output_type": "execute_result"
    }
   ],
   "source": [
    "# Count for each disease category for the feature 'Finding Labels'\n",
    "\n",
    "labels['Finding Labels'].value_counts()\n"
   ]
  },
  {
   "cell_type": "markdown",
   "metadata": {},
   "source": [
    "Data consists of a random sample of 5,606 images and labels from the National Institute of Health (NIH) Chest X-ray Dataset; obtained from Kaggle and ~2.1GB file size with sample labels in CSV file.  Sample.zip contains 5,606 images."
   ]
  },
  {
   "cell_type": "markdown",
   "metadata": {},
   "source": [
    "Original dataset, namely \"ChestX-ray8\", which comprises 108,948 frontal-view x-ray images of 32,717 (collected from the year 1992 to 2015) unique patients with text-mined eight common disease labels, mined from the text radiological reports via Natural Language Processing (NLP).  Consists of 15 classes(14 diseases, and one for \"No findings\") before cleaning the data and turning this into a binary classification problem.\n",
    "\n",
    "Article discussing the dataset can be found here:  https://www.nih.gov/news-events/news-releases/nih-clinical-center-provides-one-largest-publicly-available-chest-x-ray-datasets-scientific-community"
   ]
  },
  {
   "cell_type": "markdown",
   "metadata": {},
   "source": [
    "### Domain Knowledge"
   ]
  },
  {
   "cell_type": "markdown",
   "metadata": {
    "collapsed": true
   },
   "source": [
    "After some research I obtained information regarding the differences between a lung nodule and mass:  https://my.clevelandclinic.org/health/diseases/14799-pulmonary-nodules"
   ]
  },
  {
   "cell_type": "markdown",
   "metadata": {
    "collapsed": true
   },
   "source": [
    "Definition of disease classes:  A pulmonary nodule is a small round or oval-shaped growth in the lung.  They are smaller than three centimeters (around 1.2 inches) in diameter.  If the growth is larger than that, it is called a pulmonary mass and is more likely to represent cancer than a nodule."
   ]
  },
  {
   "cell_type": "markdown",
   "metadata": {
    "collapsed": true
   },
   "source": [
    "Over 90% of pulmonary nodules that are smaller than two centimeters in diameter are benign.  Being able to differentiate between a mass or nodule using computer vision technology in deep learning could greatly reduce cost and increase accuracy compared to shallow methods of detection alone."
   ]
  },
  {
   "cell_type": "markdown",
   "metadata": {},
   "source": [
    "Example project and code:  https://blog.athelas.com/classifying-white-blood-cells-with-convolutional-neural-networks-2ca6da239331\n"
   ]
  },
  {
   "cell_type": "markdown",
   "metadata": {},
   "source": [
    "### Project Concerns"
   ]
  },
  {
   "cell_type": "markdown",
   "metadata": {
    "collapsed": true
   },
   "source": [
    "It might be best to keep this as a multi-class classification problem but with fewer classes than the original data in order to maintain a sufficient sample size."
   ]
  },
  {
   "cell_type": "markdown",
   "metadata": {},
   "source": [
    "Deep learning requires a massive amount of training data as classification accuracy of a deep learning classifier is largely dependent on the quality and size of the dataset."
   ]
  },
  {
   "cell_type": "markdown",
   "metadata": {
    "collapsed": true
   },
   "source": [
    "As an alternative, and as far as identifying an appropriate classifier goes, I could simply separate the data based on which x-rays show lung nodules and which x-rays do not.  "
   ]
  },
  {
   "cell_type": "markdown",
   "metadata": {},
   "source": [
    "How to decompress a zip file and import it into Python.  It is different from importing an xlsx or csv file?"
   ]
  },
  {
   "cell_type": "markdown",
   "metadata": {},
   "source": [
    "When building a network architecture I am not sure about two things:  1) How many layers to use 2) How many hidden units to choose for each layer and how you determine what is best given your data."
   ]
  },
  {
   "cell_type": "markdown",
   "metadata": {},
   "source": [
    "During the preprocessing phase I might need to turn images into Numpy arrays?  "
   ]
  },
  {
   "cell_type": "markdown",
   "metadata": {},
   "source": [
    "I have a fairly good idea that during the compilation step my code will look as follows given my problem statement: \n",
    "\n",
    "network.compile(optimizer='rmsprop',\n",
    "                loss='binary_crossentropy',\n",
    "                metrics=['accuracy'])\n",
    "                \n",
    "* I will choose categorical_crossentropy as a loss function for a multi-class classification problem."
   ]
  },
  {
   "cell_type": "markdown",
   "metadata": {},
   "source": [
    "During the fit method when the neural network will start to iterate over the training data using mini-batches and epochs (each interation over all of the training data) I am not sure what values to use in order to prevent over-fitting?  i.e., epochs = 5, batch_size=150.  I need to avoid overoptimizing on the training data."
   ]
  },
  {
   "cell_type": "markdown",
   "metadata": {
    "collapsed": true
   },
   "source": [
    "Project limitation:  The image labels are NLP extracted so there coud be some erroneous labels but the accuracy rate is estimated to be >90%."
   ]
  },
  {
   "cell_type": "markdown",
   "metadata": {},
   "source": [
    "### Outcomes"
   ]
  },
  {
   "cell_type": "markdown",
   "metadata": {
    "collapsed": true
   },
   "source": [
    "I hope to achieve at least 80% accuracy.  In other words, the trained classifier was able to predict the correct class with 80% accuracy.  "
   ]
  },
  {
   "cell_type": "markdown",
   "metadata": {
    "collapsed": true
   },
   "source": [
    "In order to become more confident with training neural networks I will go through several practice problems in the book, 'Deep Learning with Python' by Francois Chollet. "
   ]
  },
  {
   "cell_type": "markdown",
   "metadata": {
    "collapsed": true
   },
   "source": [
    "Splitting the data into a training set, validation set, and a test set should help to achieve success during this project."
   ]
  }
 ],
 "metadata": {
  "kernelspec": {
   "display_name": "Python 3",
   "language": "python",
   "name": "python3"
  },
  "language_info": {
   "codemirror_mode": {
    "name": "ipython",
    "version": 3
   },
   "file_extension": ".py",
   "mimetype": "text/x-python",
   "name": "python",
   "nbconvert_exporter": "python",
   "pygments_lexer": "ipython3",
   "version": "3.6.2"
  }
 },
 "nbformat": 4,
 "nbformat_minor": 2
}
